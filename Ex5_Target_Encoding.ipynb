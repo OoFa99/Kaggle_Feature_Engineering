{
 "cells": [
  {
   "cell_type": "markdown",
   "id": "3d560cbb",
   "metadata": {
    "papermill": {
     "duration": 0.006184,
     "end_time": "2023-02-27T21:40:43.035940",
     "exception": false,
     "start_time": "2023-02-27T21:40:43.029756",
     "status": "completed"
    },
    "tags": []
   },
   "source": [
    "**This notebook is an exercise in the [Feature Engineering](https://www.kaggle.com/learn/feature-engineering) course.  You can reference the tutorial at [this link](https://www.kaggle.com/ryanholbrook/target-encoding).**\n",
    "\n",
    "---\n"
   ]
  },
  {
   "cell_type": "markdown",
   "id": "a5de4490",
   "metadata": {
    "papermill": {
     "duration": 0.005102,
     "end_time": "2023-02-27T21:40:43.046621",
     "exception": false,
     "start_time": "2023-02-27T21:40:43.041519",
     "status": "completed"
    },
    "tags": []
   },
   "source": [
    "# Introduction #\n",
    "\n",
    "In this exercise, you'll apply target encoding to features in the [*Ames*](https://www.kaggle.com/c/house-prices-advanced-regression-techniques/data) dataset.\n",
    "\n",
    "Run this cell to set everything up!"
   ]
  },
  {
   "cell_type": "code",
   "execution_count": 1,
   "id": "90f7fdd4",
   "metadata": {
    "execution": {
     "iopub.execute_input": "2023-02-27T21:40:43.059257Z",
     "iopub.status.busy": "2023-02-27T21:40:43.058835Z",
     "iopub.status.idle": "2023-02-27T21:40:45.122285Z",
     "shell.execute_reply": "2023-02-27T21:40:45.121575Z"
    },
    "papermill": {
     "duration": 2.072997,
     "end_time": "2023-02-27T21:40:45.124952",
     "exception": false,
     "start_time": "2023-02-27T21:40:43.051955",
     "status": "completed"
    },
    "tags": []
   },
   "outputs": [],
   "source": [
    "# Setup feedback system\n",
    "from learntools.core import binder\n",
    "binder.bind(globals())\n",
    "from learntools.feature_engineering_new.ex6 import *\n",
    "\n",
    "import matplotlib.pyplot as plt\n",
    "import numpy as np\n",
    "import pandas as pd\n",
    "import seaborn as sns\n",
    "import warnings\n",
    "from category_encoders import MEstimateEncoder\n",
    "from sklearn.model_selection import cross_val_score\n",
    "from xgboost import XGBRegressor\n",
    "\n",
    "# Set Matplotlib defaults\n",
    "plt.style.use(\"seaborn-whitegrid\")\n",
    "plt.rc(\"figure\", autolayout=True)\n",
    "plt.rc(\n",
    "    \"axes\",\n",
    "    labelweight=\"bold\",\n",
    "    labelsize=\"large\",\n",
    "    titleweight=\"bold\",\n",
    "    titlesize=14,\n",
    "    titlepad=10,\n",
    ")\n",
    "warnings.filterwarnings('ignore')\n",
    "\n",
    "\n",
    "def score_dataset(X, y, model=XGBRegressor()):\n",
    "    # Label encoding for categoricals\n",
    "    for colname in X.select_dtypes([\"category\", \"object\"]):\n",
    "        X[colname], _ = X[colname].factorize()\n",
    "    # Metric for Housing competition is RMSLE (Root Mean Squared Log Error)\n",
    "    score = cross_val_score(\n",
    "        model, X, y, cv=5, scoring=\"neg_mean_squared_log_error\",\n",
    "    )\n",
    "    score = -1 * score.mean()\n",
    "    score = np.sqrt(score)\n",
    "    return score\n",
    "\n",
    "\n",
    "df = pd.read_csv(\"../input/fe-course-data/ames.csv\")"
   ]
  },
  {
   "cell_type": "markdown",
   "id": "89462931",
   "metadata": {
    "papermill": {
     "duration": 0.005105,
     "end_time": "2023-02-27T21:40:45.135754",
     "exception": false,
     "start_time": "2023-02-27T21:40:45.130649",
     "status": "completed"
    },
    "tags": []
   },
   "source": [
    "-------------------------------------------------------------------------------\n",
    "\n",
    "First you'll need to choose which features you want to apply a target encoding to. Categorical features with a large number of categories are often good candidates. Run this cell to see how many categories each categorical feature in the *Ames* dataset has."
   ]
  },
  {
   "cell_type": "code",
   "execution_count": 2,
   "id": "df973798",
   "metadata": {
    "execution": {
     "iopub.execute_input": "2023-02-27T21:40:45.148629Z",
     "iopub.status.busy": "2023-02-27T21:40:45.148123Z",
     "iopub.status.idle": "2023-02-27T21:40:45.183292Z",
     "shell.execute_reply": "2023-02-27T21:40:45.181838Z"
    },
    "papermill": {
     "duration": 0.045426,
     "end_time": "2023-02-27T21:40:45.186467",
     "exception": false,
     "start_time": "2023-02-27T21:40:45.141041",
     "status": "completed"
    },
    "tags": []
   },
   "outputs": [
    {
     "data": {
      "text/plain": [
       "MSSubClass       16\n",
       "MSZoning          7\n",
       "Street            2\n",
       "Alley             3\n",
       "LotShape          4\n",
       "LandContour       4\n",
       "Utilities         3\n",
       "LotConfig         5\n",
       "LandSlope         3\n",
       "Neighborhood     28\n",
       "Condition1        9\n",
       "Condition2        8\n",
       "BldgType          5\n",
       "HouseStyle        8\n",
       "OverallQual      10\n",
       "OverallCond       9\n",
       "RoofStyle         6\n",
       "RoofMatl          8\n",
       "Exterior1st      16\n",
       "Exterior2nd      17\n",
       "MasVnrType        5\n",
       "ExterQual         4\n",
       "ExterCond         5\n",
       "Foundation        6\n",
       "BsmtQual          6\n",
       "BsmtCond          6\n",
       "BsmtExposure      5\n",
       "BsmtFinType1      7\n",
       "BsmtFinType2      7\n",
       "Heating           6\n",
       "HeatingQC         5\n",
       "CentralAir        2\n",
       "Electrical        6\n",
       "KitchenQual       5\n",
       "Functional        8\n",
       "FireplaceQu       6\n",
       "GarageType        7\n",
       "GarageFinish      4\n",
       "GarageQual        6\n",
       "GarageCond        6\n",
       "PavedDrive        3\n",
       "PoolQC            5\n",
       "Fence             5\n",
       "MiscFeature       6\n",
       "SaleType         10\n",
       "SaleCondition     6\n",
       "dtype: int64"
      ]
     },
     "execution_count": 2,
     "metadata": {},
     "output_type": "execute_result"
    }
   ],
   "source": [
    "df.select_dtypes([\"object\"]).nunique()"
   ]
  },
  {
   "cell_type": "markdown",
   "id": "566785ca",
   "metadata": {
    "papermill": {
     "duration": 0.006688,
     "end_time": "2023-02-27T21:40:45.199734",
     "exception": false,
     "start_time": "2023-02-27T21:40:45.193046",
     "status": "completed"
    },
    "tags": []
   },
   "source": [
    "We talked about how the M-estimate encoding uses smoothing to improve estimates for rare categories. To see how many times a category occurs in the dataset, you can use the `value_counts` method. This cell shows the counts for `SaleType`, but you might want to consider others as well."
   ]
  },
  {
   "cell_type": "code",
   "execution_count": 3,
   "id": "39f869b2",
   "metadata": {
    "execution": {
     "iopub.execute_input": "2023-02-27T21:40:45.215842Z",
     "iopub.status.busy": "2023-02-27T21:40:45.215438Z",
     "iopub.status.idle": "2023-02-27T21:40:45.230138Z",
     "shell.execute_reply": "2023-02-27T21:40:45.228765Z"
    },
    "papermill": {
     "duration": 0.027134,
     "end_time": "2023-02-27T21:40:45.235067",
     "exception": false,
     "start_time": "2023-02-27T21:40:45.207933",
     "status": "completed"
    },
    "tags": []
   },
   "outputs": [
    {
     "data": {
      "text/plain": [
       "WD       2536\n",
       "New       239\n",
       "COD        87\n",
       "ConLD      26\n",
       "CWD        12\n",
       "ConLI       9\n",
       "ConLw       8\n",
       "Oth         7\n",
       "Con         5\n",
       "VWD         1\n",
       "Name: SaleType, dtype: int64"
      ]
     },
     "execution_count": 3,
     "metadata": {},
     "output_type": "execute_result"
    }
   ],
   "source": [
    "df[\"SaleType\"].value_counts()"
   ]
  },
  {
   "cell_type": "markdown",
   "id": "3e570759",
   "metadata": {
    "papermill": {
     "duration": 0.005381,
     "end_time": "2023-02-27T21:40:45.246959",
     "exception": false,
     "start_time": "2023-02-27T21:40:45.241578",
     "status": "completed"
    },
    "tags": []
   },
   "source": [
    "# 1) Choose Features for Encoding\n",
    "\n",
    "Which features did you identify for target encoding? After you've thought about your answer, run the next cell for some discussion."
   ]
  },
  {
   "cell_type": "code",
   "execution_count": 4,
   "id": "5cb8c30e",
   "metadata": {
    "execution": {
     "iopub.execute_input": "2023-02-27T21:40:45.263144Z",
     "iopub.status.busy": "2023-02-27T21:40:45.262108Z",
     "iopub.status.idle": "2023-02-27T21:40:45.269665Z",
     "shell.execute_reply": "2023-02-27T21:40:45.268860Z"
    },
    "papermill": {
     "duration": 0.017545,
     "end_time": "2023-02-27T21:40:45.271624",
     "exception": false,
     "start_time": "2023-02-27T21:40:45.254079",
     "status": "completed"
    },
    "tags": []
   },
   "outputs": [
    {
     "data": {
      "application/javascript": [
       "parent.postMessage({\"jupyterEvent\": \"custom.exercise_interaction\", \"data\": {\"outcomeType\": 1, \"valueTowardsCompletion\": 0.3333333333333333, \"interactionType\": 1, \"questionType\": 4, \"questionId\": \"1_Q1\", \"learnToolsVersion\": \"0.3.4\", \"failureMessage\": \"\", \"exceptionClass\": \"\", \"trace\": \"\"}}, \"*\")"
      ],
      "text/plain": [
       "<IPython.core.display.Javascript object>"
      ]
     },
     "metadata": {},
     "output_type": "display_data"
    },
    {
     "data": {
      "text/markdown": [
       "<span style=\"color:#33cc33\">Correct:</span> \n",
       "\n",
       " The `Neighborhood` feature looks promising. It has the most categories of any feature, and several categories are rare. Others that could be worth considering are `SaleType`, `MSSubClass`, `Exterior1st`, `Exterior2nd`. In fact, almost any of the nominal features would be worth trying because of the prevalence of rare categories."
      ],
      "text/plain": [
       "Correct: \n",
       "\n",
       " The `Neighborhood` feature looks promising. It has the most categories of any feature, and several categories are rare. Others that could be worth considering are `SaleType`, `MSSubClass`, `Exterior1st`, `Exterior2nd`. In fact, almost any of the nominal features would be worth trying because of the prevalence of rare categories."
      ]
     },
     "metadata": {},
     "output_type": "display_data"
    }
   ],
   "source": [
    "# View the solution (Run this cell to receive credit!)\n",
    "q_1.check()"
   ]
  },
  {
   "cell_type": "markdown",
   "id": "032869e3",
   "metadata": {
    "papermill": {
     "duration": 0.00586,
     "end_time": "2023-02-27T21:40:45.283481",
     "exception": false,
     "start_time": "2023-02-27T21:40:45.277621",
     "status": "completed"
    },
    "tags": []
   },
   "source": [
    "-------------------------------------------------------------------------------\n",
    "\n",
    "Now you'll apply a target encoding to your choice of feature. As we discussed in the tutorial, to avoid overfitting, we need to fit the encoder on data heldout from the training set. Run this cell to create the encoding and training splits:"
   ]
  },
  {
   "cell_type": "code",
   "execution_count": 5,
   "id": "6d2a1651",
   "metadata": {
    "execution": {
     "iopub.execute_input": "2023-02-27T21:40:45.298776Z",
     "iopub.status.busy": "2023-02-27T21:40:45.298401Z",
     "iopub.status.idle": "2023-02-27T21:40:45.310962Z",
     "shell.execute_reply": "2023-02-27T21:40:45.309434Z"
    },
    "lines_to_next_cell": 2,
    "papermill": {
     "duration": 0.022983,
     "end_time": "2023-02-27T21:40:45.313794",
     "exception": false,
     "start_time": "2023-02-27T21:40:45.290811",
     "status": "completed"
    },
    "tags": []
   },
   "outputs": [],
   "source": [
    "# Encoding split\n",
    "X_encode = df.sample(frac=0.20, random_state=0)\n",
    "y_encode = X_encode.pop(\"SalePrice\")\n",
    "\n",
    "# Training split\n",
    "X_pretrain = df.drop(X_encode.index)\n",
    "y_train = X_pretrain.pop(\"SalePrice\")"
   ]
  },
  {
   "cell_type": "markdown",
   "id": "f2e1613b",
   "metadata": {
    "papermill": {
     "duration": 0.005701,
     "end_time": "2023-02-27T21:40:45.325786",
     "exception": false,
     "start_time": "2023-02-27T21:40:45.320085",
     "status": "completed"
    },
    "tags": []
   },
   "source": [
    "# 2) Apply M-Estimate Encoding\n",
    "\n",
    "Apply a target encoding to your choice of categorical features. Also choose a value for the smoothing parameter `m` (any value is okay for a correct answer)."
   ]
  },
  {
   "cell_type": "code",
   "execution_count": 6,
   "id": "21e6ced8",
   "metadata": {
    "execution": {
     "iopub.execute_input": "2023-02-27T21:40:45.339723Z",
     "iopub.status.busy": "2023-02-27T21:40:45.339308Z",
     "iopub.status.idle": "2023-02-27T21:40:45.413305Z",
     "shell.execute_reply": "2023-02-27T21:40:45.411816Z"
    },
    "lines_to_next_cell": 0,
    "papermill": {
     "duration": 0.083465,
     "end_time": "2023-02-27T21:40:45.415395",
     "exception": false,
     "start_time": "2023-02-27T21:40:45.331930",
     "status": "completed"
    },
    "tags": []
   },
   "outputs": [
    {
     "data": {
      "application/javascript": [
       "parent.postMessage({\"jupyterEvent\": \"custom.exercise_interaction\", \"data\": {\"outcomeType\": 1, \"valueTowardsCompletion\": 0.3333333333333333, \"interactionType\": 1, \"questionType\": 2, \"questionId\": \"2_Q2\", \"learnToolsVersion\": \"0.3.4\", \"failureMessage\": \"\", \"exceptionClass\": \"\", \"trace\": \"\"}}, \"*\")"
      ],
      "text/plain": [
       "<IPython.core.display.Javascript object>"
      ]
     },
     "metadata": {},
     "output_type": "display_data"
    },
    {
     "data": {
      "text/markdown": [
       "<span style=\"color:#33cc33\">Correct</span>"
      ],
      "text/plain": [
       "Correct"
      ]
     },
     "metadata": {},
     "output_type": "display_data"
    }
   ],
   "source": [
    "# YOUR CODE HERE: Create the MEstimateEncoder\n",
    "# Choose a set of features to encode and a value for m\n",
    "encoder = MEstimateEncoder(cols=[\"Neighborhood\"], m=1.0)\n",
    "\n",
    "\n",
    "# Fit the encoder on the encoding split\n",
    "encoder.fit(X_encode, y_encode)\n",
    "\n",
    "# Encode the training split\n",
    "X_train = encoder.transform(X_pretrain, y_train)\n",
    "\n",
    "\n",
    "# Check your answer\n",
    "q_2.check()"
   ]
  },
  {
   "cell_type": "code",
   "execution_count": 7,
   "id": "8f06718d",
   "metadata": {
    "execution": {
     "iopub.execute_input": "2023-02-27T21:40:45.430712Z",
     "iopub.status.busy": "2023-02-27T21:40:45.430280Z",
     "iopub.status.idle": "2023-02-27T21:40:45.434536Z",
     "shell.execute_reply": "2023-02-27T21:40:45.433586Z"
    },
    "lines_to_next_cell": 0,
    "papermill": {
     "duration": 0.014834,
     "end_time": "2023-02-27T21:40:45.436493",
     "exception": false,
     "start_time": "2023-02-27T21:40:45.421659",
     "status": "completed"
    },
    "tags": []
   },
   "outputs": [],
   "source": [
    "# Lines below will give you a hint or solution code\n",
    "# q_2.hint()\n",
    "# q_2.solution()"
   ]
  },
  {
   "cell_type": "markdown",
   "id": "75da4a4a",
   "metadata": {
    "papermill": {
     "duration": 0.005824,
     "end_time": "2023-02-27T21:40:45.448745",
     "exception": false,
     "start_time": "2023-02-27T21:40:45.442921",
     "status": "completed"
    },
    "tags": []
   },
   "source": [
    "If you'd like to see how the encoded feature compares to the target, you can run this cell:"
   ]
  },
  {
   "cell_type": "code",
   "execution_count": 8,
   "id": "c17c3c73",
   "metadata": {
    "execution": {
     "iopub.execute_input": "2023-02-27T21:40:45.462475Z",
     "iopub.status.busy": "2023-02-27T21:40:45.462049Z",
     "iopub.status.idle": "2023-02-27T21:40:45.760386Z",
     "shell.execute_reply": "2023-02-27T21:40:45.759539Z"
    },
    "papermill": {
     "duration": 0.307389,
     "end_time": "2023-02-27T21:40:45.762104",
     "exception": false,
     "start_time": "2023-02-27T21:40:45.454715",
     "status": "completed"
    },
    "tags": []
   },
   "outputs": [
    {
     "data": {
      "image/png": "[encoded data removed]",
      "text/plain": [
       "<Figure size 576x432 with 1 Axes>"
      ]
     },
     "metadata": {},
     "output_type": "display_data"
    }
   ],
   "source": [
    "feature = encoder.cols\n",
    "\n",
    "plt.figure(dpi=90)\n",
    "ax = sns.distplot(y_train, kde=True, hist=False)\n",
    "ax = sns.distplot(X_train[feature], color='r', ax=ax, hist=True, kde=False, norm_hist=True)\n",
    "ax.set_xlabel(\"SalePrice\");"
   ]
  },
  {
   "cell_type": "markdown",
   "id": "a81f496d",
   "metadata": {
    "papermill": {
     "duration": 0.006003,
     "end_time": "2023-02-27T21:40:45.774611",
     "exception": false,
     "start_time": "2023-02-27T21:40:45.768608",
     "status": "completed"
    },
    "tags": []
   },
   "source": [
    "From the distribution plots, does it seem like the encoding is informative?\n",
    "\n",
    "And this cell will show you the score of the encoded set compared to the original set:"
   ]
  },
  {
   "cell_type": "code",
   "execution_count": 9,
   "id": "b06b4fd2",
   "metadata": {
    "execution": {
     "iopub.execute_input": "2023-02-27T21:40:45.789332Z",
     "iopub.status.busy": "2023-02-27T21:40:45.788255Z",
     "iopub.status.idle": "2023-02-27T21:40:51.541126Z",
     "shell.execute_reply": "2023-02-27T21:40:51.539935Z"
    },
    "papermill": {
     "duration": 5.763165,
     "end_time": "2023-02-27T21:40:51.543910",
     "exception": false,
     "start_time": "2023-02-27T21:40:45.780745",
     "status": "completed"
    },
    "tags": []
   },
   "outputs": [
    {
     "name": "stdout",
     "output_type": "stream",
     "text": [
      "Baseline Score: 0.1428 RMSLE\n",
      "Score with Encoding: 0.1402 RMSLE\n"
     ]
    }
   ],
   "source": [
    "X = df.copy()\n",
    "y = X.pop(\"SalePrice\")\n",
    "score_base = score_dataset(X, y)\n",
    "score_new = score_dataset(X_train, y_train)\n",
    "\n",
    "print(f\"Baseline Score: {score_base:.4f} RMSLE\")\n",
    "print(f\"Score with Encoding: {score_new:.4f} RMSLE\")"
   ]
  },
  {
   "cell_type": "markdown",
   "id": "4664728d",
   "metadata": {
    "papermill": {
     "duration": 0.006697,
     "end_time": "2023-02-27T21:40:51.557468",
     "exception": false,
     "start_time": "2023-02-27T21:40:51.550771",
     "status": "completed"
    },
    "tags": []
   },
   "source": [
    "Do you think that target encoding was worthwhile in this case? Depending on which feature or features you chose, you may have ended up with a score significantly worse than the baseline. In that case, it's likely the extra information gained by the encoding couldn't make up for the loss of data used for the encoding."
   ]
  },
  {
   "cell_type": "markdown",
   "id": "27864e3b",
   "metadata": {
    "papermill": {
     "duration": 0.006354,
     "end_time": "2023-02-27T21:40:51.570498",
     "exception": false,
     "start_time": "2023-02-27T21:40:51.564144",
     "status": "completed"
    },
    "tags": []
   },
   "source": [
    "-------------------------------------------------------------------------------\n",
    "\n",
    "In this question, you'll explore the problem of overfitting with target encodings. This will illustrate this importance of training fitting target encoders on data held-out from the training set.\n",
    "\n",
    "So let's see what happens when we fit the encoder and the model on the *same* dataset. To emphasize how dramatic the overfitting can be, we'll mean-encode a feature that should have no relationship with `SalePrice`, a count: `0, 1, 2, 3, 4, 5, ...`."
   ]
  },
  {
   "cell_type": "code",
   "execution_count": 10,
   "id": "1b513df0",
   "metadata": {
    "execution": {
     "iopub.execute_input": "2023-02-27T21:40:51.585363Z",
     "iopub.status.busy": "2023-02-27T21:40:51.584983Z",
     "iopub.status.idle": "2023-02-27T21:40:54.734804Z",
     "shell.execute_reply": "2023-02-27T21:40:54.733557Z"
    },
    "papermill": {
     "duration": 3.160392,
     "end_time": "2023-02-27T21:40:54.737487",
     "exception": false,
     "start_time": "2023-02-27T21:40:51.577095",
     "status": "completed"
    },
    "tags": []
   },
   "outputs": [
    {
     "name": "stdout",
     "output_type": "stream",
     "text": [
      "Score: 0.0298 RMSLE\n"
     ]
    }
   ],
   "source": [
    "# Try experimenting with the smoothing parameter m\n",
    "# Try 0, 1, 5, 50\n",
    "m = 1\n",
    "\n",
    "X = df.copy()\n",
    "y = X.pop('SalePrice')\n",
    "\n",
    "# Create an uninformative feature\n",
    "X[\"Count\"] = range(len(X))\n",
    "X[\"Count\"][1] = 0  # actually need one duplicate value to circumvent error-checking in MEstimateEncoder\n",
    "\n",
    "# fit and transform on the same dataset\n",
    "encoder = MEstimateEncoder(cols=\"Count\", m=m)\n",
    "X = encoder.fit_transform(X, y)\n",
    "\n",
    "# Results\n",
    "score =  score_dataset(X, y)\n",
    "print(f\"Score: {score:.4f} RMSLE\")"
   ]
  },
  {
   "cell_type": "markdown",
   "id": "41b8462a",
   "metadata": {
    "papermill": {
     "duration": 0.006426,
     "end_time": "2023-02-27T21:40:54.751017",
     "exception": false,
     "start_time": "2023-02-27T21:40:54.744591",
     "status": "completed"
    },
    "tags": []
   },
   "source": [
    "Almost a perfect score!"
   ]
  },
  {
   "cell_type": "code",
   "execution_count": 11,
   "id": "9f854320",
   "metadata": {
    "execution": {
     "iopub.execute_input": "2023-02-27T21:40:54.766105Z",
     "iopub.status.busy": "2023-02-27T21:40:54.765501Z",
     "iopub.status.idle": "2023-02-27T21:40:55.071477Z",
     "shell.execute_reply": "2023-02-27T21:40:55.069950Z"
    },
    "papermill": {
     "duration": 0.31594,
     "end_time": "2023-02-27T21:40:55.073602",
     "exception": false,
     "start_time": "2023-02-27T21:40:54.757662",
     "status": "completed"
    },
    "tags": []
   },
   "outputs": [
    {
     "data": {
      "image/png": "[encoded data removed]",
      "text/plain": [
       "<Figure size 576x432 with 1 Axes>"
      ]
     },
     "metadata": {},
     "output_type": "display_data"
    }
   ],
   "source": [
    "plt.figure(dpi=90)\n",
    "ax = sns.distplot(y, kde=True, hist=False)\n",
    "ax = sns.distplot(X[\"Count\"], color='r', ax=ax, hist=True, kde=False, norm_hist=True)\n",
    "ax.set_xlabel(\"SalePrice\");"
   ]
  },
  {
   "cell_type": "markdown",
   "id": "db6f5f04",
   "metadata": {
    "papermill": {
     "duration": 0.006669,
     "end_time": "2023-02-27T21:40:55.087334",
     "exception": false,
     "start_time": "2023-02-27T21:40:55.080665",
     "status": "completed"
    },
    "tags": []
   },
   "source": [
    "And the distributions are almost exactly the same, too.\n",
    "\n",
    "# 3) Overfitting with Target Encoders\n",
    "\n",
    "Based on your understanding of how mean-encoding works, can you explain how XGBoost was able to get an almost a perfect fit after mean-encoding the count feature?"
   ]
  },
  {
   "cell_type": "code",
   "execution_count": 12,
   "id": "6546e4cc",
   "metadata": {
    "execution": {
     "iopub.execute_input": "2023-02-27T21:40:55.103201Z",
     "iopub.status.busy": "2023-02-27T21:40:55.102819Z",
     "iopub.status.idle": "2023-02-27T21:40:55.110721Z",
     "shell.execute_reply": "2023-02-27T21:40:55.109831Z"
    },
    "lines_to_next_cell": 0,
    "papermill": {
     "duration": 0.018633,
     "end_time": "2023-02-27T21:40:55.113065",
     "exception": false,
     "start_time": "2023-02-27T21:40:55.094432",
     "status": "completed"
    },
    "tags": []
   },
   "outputs": [
    {
     "data": {
      "application/javascript": [
       "parent.postMessage({\"jupyterEvent\": \"custom.exercise_interaction\", \"data\": {\"outcomeType\": 1, \"valueTowardsCompletion\": 0.3333333333333333, \"interactionType\": 1, \"questionType\": 4, \"questionId\": \"3_Q3\", \"learnToolsVersion\": \"0.3.4\", \"failureMessage\": \"\", \"exceptionClass\": \"\", \"trace\": \"\"}}, \"*\")"
      ],
      "text/plain": [
       "<IPython.core.display.Javascript object>"
      ]
     },
     "metadata": {},
     "output_type": "display_data"
    },
    {
     "data": {
      "text/markdown": [
       "<span style=\"color:#33cc33\">Correct:</span> \n",
       "\n",
       "\n",
       "Since `Count` never has any duplicate values, the mean-encoded `Count` is essentially an exact copy of the target. In other words, mean-encoding turned a completely meaningless feature into a perfect feature.\n",
       "\n",
       "Now, the only reason this worked is because we trained XGBoost on the same set we used to train the encoder. If we had used a hold-out set instead, none of this \"fake\" encoding would have transferred to the training data.\n",
       "\n",
       "The lesson is that when using a target encoder it's very important to use separate data sets for training the encoder and training the model. Otherwise the results can be very disappointing!\n"
      ],
      "text/plain": [
       "Correct: \n",
       "\n",
       "\n",
       "Since `Count` never has any duplicate values, the mean-encoded `Count` is essentially an exact copy of the target. In other words, mean-encoding turned a completely meaningless feature into a perfect feature.\n",
       "\n",
       "Now, the only reason this worked is because we trained XGBoost on the same set we used to train the encoder. If we had used a hold-out set instead, none of this \"fake\" encoding would have transferred to the training data.\n",
       "\n",
       "The lesson is that when using a target encoder it's very important to use separate data sets for training the encoder and training the model. Otherwise the results can be very disappointing!"
      ]
     },
     "metadata": {},
     "output_type": "display_data"
    }
   ],
   "source": [
    "# View the solution (Run this cell to receive credit!)\n",
    "q_3.check()"
   ]
  },
  {
   "cell_type": "code",
   "execution_count": 13,
   "id": "7f90baa1",
   "metadata": {
    "execution": {
     "iopub.execute_input": "2023-02-27T21:40:55.129503Z",
     "iopub.status.busy": "2023-02-27T21:40:55.129132Z",
     "iopub.status.idle": "2023-02-27T21:40:55.134135Z",
     "shell.execute_reply": "2023-02-27T21:40:55.132793Z"
    },
    "papermill": {
     "duration": 0.0162,
     "end_time": "2023-02-27T21:40:55.136716",
     "exception": false,
     "start_time": "2023-02-27T21:40:55.120516",
     "status": "completed"
    },
    "tags": []
   },
   "outputs": [],
   "source": [
    "# Uncomment this if you'd like a hint before seeing the answer\n",
    "# q_3.hint()"
   ]
  },
  {
   "cell_type": "markdown",
   "id": "7d26a960",
   "metadata": {
    "papermill": {
     "duration": 0.006746,
     "end_time": "2023-02-27T21:40:55.150928",
     "exception": false,
     "start_time": "2023-02-27T21:40:55.144182",
     "status": "completed"
    },
    "tags": []
   },
   "source": [
    "# The End #\n",
    "\n",
    "That's it for *Feature Engineering*! We hope you enjoyed your time with us.\n",
    "\n",
    "Now, are you ready to try out your new skills? Now would be a great time to join our [Housing Prices](https://www.kaggle.com/c/house-prices-advanced-regression-techniques) Getting Started competition. We've even prepared a [Bonus Lesson](https://www.kaggle.com/ryanholbrook/feature-engineering-for-house-prices) that collects all the work we've done together into a starter notebook.\n",
    "\n",
    "# References #\n",
    "Here are some great resources you might like to consult for more information. They all played a part in shaping this course:\n",
    "- *The Art of Feature Engineering*, a book by Pablo Duboue.\n",
    "- *An Empirical Analysis of Feature Engineering for Predictive Modeling*, an article by Jeff Heaton.\n",
    "- *Feature Engineering for Machine Learning*, a book by Alice Zheng and Amanda Casari. The tutorial on clustering was inspired by this excellent book.\n",
    "- *Feature Engineering and Selection*, a book by Max Kuhn and Kjell Johnson."
   ]
  },
  {
   "cell_type": "markdown",
   "id": "6b211aa5",
   "metadata": {
    "papermill": {
     "duration": 0.006824,
     "end_time": "2023-02-27T21:40:55.164892",
     "exception": false,
     "start_time": "2023-02-27T21:40:55.158068",
     "status": "completed"
    },
    "tags": []
   },
   "source": [
    "---\n",
    "\n",
    "\n",
    "\n",
    "\n",
    "*Have questions or comments? Visit the [course discussion forum](https://www.kaggle.com/learn/feature-engineering/discussion) to chat with other learners.*"
   ]
  }
 ],
 "metadata": {
  "kernelspec": {
   "display_name": "Python 3",
   "language": "python",
   "name": "python3"
  },
  "language_info": {
   "codemirror_mode": {
    "name": "ipython",
    "version": 3
   },
   "file_extension": ".py",
   "mimetype": "text/x-python",
   "name": "python",
   "nbconvert_exporter": "python",
   "pygments_lexer": "ipython3",
   "version": "3.7.12"
  },
  "papermill": {
   "default_parameters": {},
   "duration": 21.715001,
   "end_time": "2023-02-27T21:40:55.893913",
   "environment_variables": {},
   "exception": null,
   "input_path": "__notebook__.ipynb",
   "output_path": "__notebook__.ipynb",
   "parameters": {},
   "start_time": "2023-02-27T21:40:34.178912",
   "version": "2.4.0"
  }
 },
 "nbformat": 4,
 "nbformat_minor": 5
}
